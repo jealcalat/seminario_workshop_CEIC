{
  "cells": [
    {
      "cell_type": "raw",
      "metadata": {},
      "source": [
        "---\n",
        "title: Contingencia e información en la explicación del comportamiento\n",
        "subtitle: Día 1. Teoría de la información\n",
        "author: Emmanuel Alcalá\n",
        "thanks: 'Ciclo de charlas auspiciado por la Universidad panamericana, campus Guadalajara y Universidad de Guadalajara-CEIC, con financiamiento CONACyT-320943'\n",
        "format:\n",
        "  beamer:\n",
        "    aspectratio: 169\n",
        "    navigation: horizontal\n",
        "    theme: Frankfurt\n",
        "    colortheme: seahorse\n",
        "    section-titles: true\n",
        "    include-in-header:\n",
        "      text: |\n",
        "        \\usepackage{amsmath}\n",
        "        \\usepackage{amsfonts}\n",
        "        \\usepackage{amssymb}\n",
        "        \\setbeamertemplate{frametitle}[default][center]\n",
        "---"
      ],
      "id": "089e428b"
    },
    {
      "cell_type": "markdown",
      "metadata": {},
      "source": [
        "# Temas\n",
        "\n",
        "1. Preliminares\n",
        "2. información y entropía"
      ],
      "id": "b1e94323"
    },
    {
      "cell_type": "raw",
      "metadata": {},
      "source": [
        "---\n",
        "\n",
        "# Preliminares\n",
        "\n",
        "## Funciones\n",
        "\n",
        "Las funciones tienen datos de entrada y datos de salida. Entre la entrada y la salida existe una transformación, que es lo que llamamos \"función\". La función $f(x)=y$ se denota por\n",
        "\n",
        "$$ f\\colon X \\mapsto Y $$\n",
        "\n",
        ">la función $f$ mapea valores de $X$ (input) a $Y$ (output)\n",
        "\n",
        "\\pause\n",
        "\n",
        "Por ejemplo, la función $y = 5x + 2$ nos dice que por cada valor de $x$, $y$ valdrá 5 veces $x$ más 2. Si $x=({\\color{red}1}, {\\color{blue}2},{\\color{green!60!black} 3})$, la función transforma a $x$ en la colección de valores\n",
        "\n",
        "$$\n",
        "y=({\\color{red}1*5+2}, {\\color{blue}2*5+2},{\\color{green!60!black}3*5+2})\n",
        "$$\n",
        "\n",
        "En una tabla es más fácil de visualizar\n",
        "\n",
        "---"
      ],
      "id": "28c4187c"
    },
    {
      "cell_type": "markdown",
      "metadata": {},
      "source": [
        "## Operador $\\Sigma$\n",
        "\n",
        "$\\Sigma$ - Suma de $i$ elementos hasta $n$, donde $i$ el índice de sumación\n",
        "\n",
        "$$\n",
        "\\sum_{i=m}^n x_i=x_1 + x_2 + \\dots + x_n\n",
        "$$\n",
        "\n",
        "Donde $m$ es el límite inferior de la suma, y $n$ el límite superior de la suma. \n",
        "\\pause\n",
        "\n",
        "Ejemplo: sumar los valores de $x$ del 1 al 4\n",
        "\n",
        "\\begin{align*}\n",
        "  x &= \\{{\\color{red}1_{[1]}}, {\\color{blue}8_{[2]}}, {\\color{orange}3_{[3]}}, 5_{[4]} \\}\\\\\n",
        "\\sum_{i=2}^{4} &= {\\color{blue}8} + {\\color{orange}3} + 5 = 10\n",
        "\\end{align*}\n",
        "\n",
        "En corchete coloco *el orden* (el índice) del elemento"
      ],
      "id": "8787e371"
    },
    {
      "cell_type": "raw",
      "metadata": {},
      "source": [
        "---\n",
        "\n",
        "## Conjuntos (brevísima)\n",
        "\n",
        "Un conjunto es una colección de distintos objetos. $A$ es un subconjunto de $B$ si todo elemento de $A$ es también incluido en $B$, que se simboliza como $A \\subset B$.\n",
        "\n",
        "- El conjunto vacío, denotado $\\emptyset$, es el conjunto que no contiene nada.\n",
        "\n",
        "- Denotamos por $|S|$ a la cardinalidad (maomeno \\textit{el número de sus elementos}) de $S$. Por ejemplo, $|\\emptyset|=0$.\n",
        "\n",
        "- $x \\in A$ es \"$x$ es un miembro del conjunto $A$\".\n",
        "En probabilidad, los eventos se tratan como conjuntos de valores. Si lanzas una moneda 10 veces, el evento \"veces que cae águila\" es un conjunto de valores. \n",
        "\n",
        "---"
      ],
      "id": "a923925f"
    },
    {
      "cell_type": "markdown",
      "metadata": {},
      "source": [
        "## Probabilidad \n",
        "\n",
        "Si todos los resultados son igualmente posibles, la probabilidad de $A$\n",
        "\n",
        "$$\n",
        "\\Pr_{\\textrm{naïve}}(A) = \\frac{\\textnormal{veces que sale } A}{\\textnormal{total de resultados (i.e., } A \\cup A^c)} = \\frac{|A|}{|S|}\n",
        "$$\n",
        "\n",
        "Donde por $|\\cdot|$ entendemos la *cardinalidad*, o el número de elementos. \n",
        "\n",
        "\\pause\n",
        "\n",
        "Existen diferentes interpretaciones de la probabilidad. La más usada, la frecuentista, la define formalmente como el valor límite de $\\Pr(A)$ cuando $|S|$ tiende a infinito. \\pause\n",
        "\n",
        "Por ejemplo, la probabilidad de obtener caras al lanzar una moneda es el límite de \n",
        "\n",
        "$$\\Pr(caras)=\\frac{\\#caras}{N}$$\n",
        "\n",
        "cuando el número de lanzamientos $N\\rightarrow \\infty$."
      ],
      "id": "c72bd8bd"
    },
    {
      "cell_type": "raw",
      "metadata": {},
      "source": [
        "---\n",
        "\n",
        "### Variables y espacios:\n",
        "\n",
        "**Variable aleatoria**: es una función que mapea los resultados de un experimento aleatorio al conjunto de los números reales (comúnmente). Se suele representar con letra mayúscula (e.g., $X$).\n",
        "\n",
        "Existen variables aleatorias discretas (sus valores son finitos o infinitos contables, como $(0, 1, 2, ...)$), y continuas (sus valores son infinitos no contables).\\pause\n",
        "\n",
        "**Espacio muestral**: El conjunto de todos los resultados posibles. Se suele representar con $\\Omega$. De este conjunto la $X$ mapea a los reales: $X\\colon \\Omega \\rightarrow \\mathbb R$. Es decir, a cada elemento de $\\Omega$ asigna un número real, $X(\\omega)$.\\pause\n",
        "\n",
        "**Evento**: Subconjunto de $\\Omega$, usualmente representado por una vocal mayúscula, e.g., $A$. Si lanzamos una moneda dos veces, $\\Omega = \\{HH,HT,TT,TH\\}$. El evento ``la primera moneda cae H'' es $A=\\{HH,HT\\}$. \n",
        "\n",
        "---"
      ],
      "id": "d34861b3"
    },
    {
      "cell_type": "markdown",
      "metadata": {},
      "source": [
        "Algunas propiedades de $\\Pr$ son:\n",
        "\n",
        "1. $0\\leq \\Pr(A) \\leq 1$ y $\\sum \\Pr(A) = 1$\n",
        "2. Si $\\emptyset$ es un conjunto nulo, entonces $\\Pr(\\emptyset)=0$.\n",
        "2. Si $A \\subset B$, entonces $\\Pr(A)\\leq \\Pr(B)$.\n",
        "3. Si $A^c$ denota el complemento de $A$, entonces $\\Pr(A^c)=1-\\Pr(A)$.\n",
        "4. Si $A \\cap B = \\emptyset$ denota la intersección nula de $A$ y $B$, entonces $\\Pr(A \\cup B)=\\Pr(A) + \\Pr(B)$, $\\Pr$ es aditiva para eventos disjuntos.\n",
        "5. De otra manera, para eventos arbitrarios $A, B$, $\\Pr(A \\cup B)=\\Pr(A) + \\Pr(B)-\\Pr(A\\cap B)$. \n",
        "6. Dos eventos $A$ y $B$ son independientes si $\\Pr(A \\cup B)=\\Pr(A)\\Pr(B)$. "
      ],
      "id": "2fd50aa9"
    },
    {
      "cell_type": "raw",
      "metadata": {},
      "source": [
        "---\n",
        "\n",
        "\n",
        "\\begin{figure}\n",
        "  \\centering\n",
        "  \\includegraphics[width=0.3\\textwidth]{2022-10-18-10-57-40.png}\n",
        "\\end{figure}\n",
        "\n",
        "### Reglas\n",
        "\n",
        "1. $p(x_2, y_1) = \\frac{n_{21}}{N}$ (probabilidad conjunta de $x_2$ y $y_1$).\n",
        "2. $c_i=\\sum_{j=1}^3n_{ij}$ (suma de todos los $n_{ij}$ con $i$ fijo).\n",
        "3. $p(x_i) = \\frac{c_i}{N}=\\sum_{j=1}^5p(x_i, y_j)$ (probabilidad marginal de $x_i$; **regla de la suma**).\n",
        "4. $p(y_j | x_i) = \\frac{n_{ij}}{c_i}$ (probabilidad condicional de $y_j$ *dado* que $x_i$ ocurrió).\n",
        "5. $p(x_i, y_i) = \\frac{n_{ij}}{N} =  \\frac{n_{ij}}{c_i} \\frac{c_i}{N} = p(y_j | x_i)p(x_i)$ (**regla del producto**)\n",
        "\n",
        "---"
      ],
      "id": "a52a3c38"
    },
    {
      "cell_type": "markdown",
      "metadata": {},
      "source": [
        "## Operador esperanza $\\text{E}[X]$\n",
        "\n",
        "Valor esperado - (a.k.a. *media*, *esperanza*, o *promedio*) es una suma ponderada de los posibles resultados de nuestra variable aleatoria. Matemáticamente, si $x_1, x_2, x_3, \\dots$ son todas distintos posibles valores que $X$ puede tomar, el valor esperado de $X$ es\n",
        "\n",
        "\n",
        "\\begin{align*}\n",
        "  \\text{E}[X] & = \\sum\\limits_i x_i p(X=x_i), \\text{ si $x$ es discreta} \\\\\n",
        "  \\text{E}[X] & = \\int_{\\mathbb R} xf(x)dx, \\text{ si $x$ es continua}  \n",
        "\\end{align*}\n",
        "\n",
        "La multiplicación $x_ip(X=x_i)$ es el valor de $x_i$ por la probabilidad de que $x_i$ ocurra.\n",
        "\n",
        "Por brevedad, podemos simplemente escribir $p(x_i)$ para el caso discreto. Para el caso continuo, $f(x)$ denota la función de densidad de probabilidad."
      ],
      "id": "252b4c11"
    },
    {
      "cell_type": "raw",
      "metadata": {},
      "source": [
        "---\n",
        "\n",
        "Si tenemos $n$ datos, todos con la misma probabilidad de ser tomados por $X$, entonces la esperanza es simplemente la media aritmética:\n",
        "\n",
        "$\\text{E}[X] = \\frac{1}{n}\\sum\\limits_{i}x_i$\n",
        "\n",
        "Con $p(x_1)=p(x_2)=...=p(x_n)=1/n$. Por ejemplo, si $X = (1, 5, 9, 10)$, todos con probabilidad $p(x)=1/4$,\n",
        "\n",
        "$\\text{E}[X] = \\frac{1}{n}\\sum\\limits_{i}x_i = \\frac{1}{4}\\times(1 + 5 + 9 + 10)$\n",
        "\n",
        "---"
      ],
      "id": "b9eb0d03"
    },
    {
      "cell_type": "markdown",
      "metadata": {},
      "source": [
        "## Propiedades de los logaritmos\n",
        "\n",
        "Los logaritmos solo están definidos para los números reales\n",
        "\n",
        "$$\n",
        "\\log_b(x) = a, \\forall x \\in\\mathbb{R} > 0\n",
        "$$\n",
        "\n",
        "Que se lee ``para todos los $x$ del conjunto $\\mathbb{R}$ mayores que 0\".\n",
        "\n",
        "Un logaritmo se puede definir como el valor al que hay que elevar la base $b$ para obtener $x$.\n",
        "\n",
        "\\pause\n",
        "\n",
        "Por ejemplo, $\\log_2(16)=4$ ('4 es el logaritmo base 2 de 16'). Por lo tanto, para obtener 16 de nuevo elevamos 2 a la cuarta, $2^4=16$."
      ],
      "id": "e968f306"
    },
    {
      "cell_type": "raw",
      "metadata": {},
      "source": [
        "---\n",
        "\n",
        "**Propiedad 1** $log_b (x\\times y) = \\log_b(x) + \\log_b(y)$\n",
        "\n",
        "En palabras, esto significa que el logaritmo base $b$ del producto de dos números es igual a la suma de los logaritmos de esos números.\n",
        "\n",
        "---"
      ],
      "id": "5008ccc2"
    },
    {
      "cell_type": "markdown",
      "metadata": {},
      "source": [
        "**Propiedad 2** $\\log_b ( \\frac{x}{y}) = \\log_b(x) - \\log_b(y)$\n",
        "\n",
        "Esta propiedad es simplemente la operación inversa de la \\textbf{Propiedad 1}. Esta propiedad permite expresar las razones (o proporciones) en términos de diferencias. \n",
        "\n",
        "Si, por ejemplo, $x>y$, el rango de valores que puede tomar $x/y$ va desde 1 a infinito. Por otro lado, si $x\\leq y$, el rango de valores está entre 0 y 1. Las razones no son funciones simétricas. \n",
        "\n",
        "Los logaritmos sí. Si $x>y$, $\\log_b(x/y) > 1$, si $x<y$, $\\log_b(x/y)<0$. Si $x=y$, $\\log_b(x/y)=0$. El último resultado implica que $\\log_b(1)=0$"
      ],
      "id": "3c5fc5d7"
    },
    {
      "cell_type": "raw",
      "metadata": {},
      "source": [
        "---\n",
        "\n",
        "**Propiedad 3** $\\log_b (x^a) = a \\log_b (x)$\n",
        "\n",
        "Esto se sigue de la \\textbf{Propiedad 1}. Supongamos que $a = 3$, entonces $\\log_b (x^a) = \\log_b (x^3) = \\log_b (x \\times x \\times x)$, lo que es lo mismo a escribir $\\log_b (x) + \\log_b (x) + \\log_b (x)$, y dado que $\\log_b (x)$ se repite 3 veces, la expresión $\\log_b (x) + \\log_b (x) + \\log_b (x)$ es igual a $3\\log_b (x)$. \n",
        "\n",
        "---"
      ],
      "id": "b12c63aa"
    },
    {
      "cell_type": "markdown",
      "metadata": {},
      "source": [
        "**Propiedad 4** Si $x < y$, $\\log_b(x) < \\log_b(y)$.\n",
        "\n",
        "En palabras, esto significa que el $\\log_b(x)$ es una función monotónica y estrictamente creciente de $x$: si $x$ crece, $\\log_b(x)$ también crece."
      ],
      "id": "2c069d38"
    },
    {
      "cell_type": "raw",
      "metadata": {},
      "source": [
        "---\n",
        "\n",
        "### Interludio: ejercicios\n",
        "\n",
        "1. Suponiendo que lanzar dos veces una moneda *justa* son eventos independientes, ¿cuál es la probabilidad de obtener dos caras? Es decir, $p(x_1=cara \\cap x_2 = cara)$. Hint: la probabilidad de una sola cara es $p(cara)=1/2$.\n",
        "\n",
        "2. \n",
        "\n",
        ":::: {.columns}\n",
        "\n",
        "::: {.column width=\"40%\"}\n",
        "\\begin{figure}\n",
        "  \\centering\n",
        "  \\includegraphics[width=0.8\\textwidth]{2022-10-18-11-16-55.png}\n",
        "\\end{figure}\n",
        ":::\n",
        "\n",
        "::: {.column width=\"60%\"}\n",
        "- ¿Cuál es la probabilidad $p(y_1, x_1)$?\n",
        "\n",
        "- ¿Cuál es la probabilidad $p(y_1)$?\n",
        "\n",
        "- ¿Cuál es la probabilidad $p(x_1 | y_1)$?\n",
        ":::\n",
        "\n",
        "::::\n",
        "\n",
        "\n",
        "\n",
        "\n",
        "---"
      ],
      "id": "81b09185"
    },
    {
      "cell_type": "markdown",
      "metadata": {},
      "source": [
        "# Información y entropía\n",
        "\n",
        "Usualmente, por *información* nos referimos coloquialmente a la cantidad de datos que son guardados, enviados, recibidos o manipulados por algún medio.\n",
        "\n",
        ". . .\n",
        "\n",
        "Otra forma de concebir la información es como reducción de incertidumbre.\n",
        "\n",
        ". . .\n",
        "\n",
        "Por ejemplo, antes de leer un libro su contenido es desconocido. En ese sentido, nuestra incertidumbre es alta. La primera vez que lo leemos, esa incertidumbre con respecto al contenido disminuye y, al mismo tiempo, podríamos decir que ganamos información."
      ],
      "id": "e52aee09"
    },
    {
      "cell_type": "raw",
      "metadata": {},
      "source": [
        "--- \n",
        "\n",
        "## Contenido de información\n",
        "\n",
        "La noción de información que necesitamos debe tener dos propiedades deseables:\n",
        "\n",
        "::: {.incremental}\n",
        "\n",
        "- La información debe ser extensiva y aditiva. La combinación de dos conjuntos de información con la misma cantidad duplican la información. \n",
        "- La información reduce la incertidumbre. La cantidad de información es una función monotónica estrictamente decreciente de la incertidumbre de un evento. Cuanto más probable es un evento, menos información conlleva; cuanto menos probable, más información conlleva.\n",
        "\n",
        ":::\n",
        "\n",
        ". . .\n",
        "\n",
        "La única función que satisface esos dos requerimientos es \n",
        "\n",
        "$$\n",
        "  I(x) = -\\log_b(p(x)) =  \\log_b\\frac{1}{p(x)}\n",
        "$$\n",
        "\n",
        "---"
      ],
      "id": "5499f630"
    },
    {
      "cell_type": "code",
      "metadata": {},
      "source": [
        "#| fig.width = 5\n",
        "\n",
        "import numpy as np\n",
        "import matplotlib.pyplot as plt \n",
        "def Ipx(x):\n",
        "  return -np.log(x)\n",
        "\n",
        "x = np.arange(0, 1, 0.01)\n",
        "plt.plot(x, Ipx(x))"
      ],
      "id": "304f7b80",
      "execution_count": null,
      "outputs": []
    }
  ],
  "metadata": {
    "kernelspec": {
      "name": "python3",
      "language": "python",
      "display_name": "Python 3 (ipykernel)"
    }
  },
  "nbformat": 4,
  "nbformat_minor": 5
}